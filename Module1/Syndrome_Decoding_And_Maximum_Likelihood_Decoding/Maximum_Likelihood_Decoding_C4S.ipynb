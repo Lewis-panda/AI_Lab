{
  "nbformat": 4,
  "nbformat_minor": 0,
  "metadata": {
    "colab": {
      "provenance": []
    },
    "kernelspec": {
      "name": "python3",
      "display_name": "Python 3"
    },
    "language_info": {
      "name": "python"
    }
  },
  "cells": [
    {
      "cell_type": "markdown",
      "metadata": {
        "id": "cgnAmFg13ks4"
      },
      "source": [
        "## **Traditional (Maximum Likelihood Decoding)**"
      ]
    },
    {
      "cell_type": "markdown",
      "metadata": {
        "id": "wLwaQonO4AdG"
      },
      "source": [
        "# Loading Libraries"
      ]
    },
    {
      "cell_type": "code",
      "metadata": {
        "id": "QhV6TvpV4Yob"
      },
      "source": [
        "import numpy as np\n",
        "import pandas as pd\n",
        "import matplotlib.pyplot as plt\n",
        "import sys"
      ],
      "execution_count": null,
      "outputs": []
    },
    {
      "cell_type": "markdown",
      "metadata": {
        "id": "UtdreW8t4aou"
      },
      "source": [
        "# Loading codebook file"
      ]
    },
    {
      "cell_type": "markdown",
      "metadata": {
        "id": "rDUexVXe6kj4"
      },
      "source": [
        "Loading codebook file from the generated codewords and we separate the data to codeword and message."
      ]
    },
    {
      "cell_type": "code",
      "metadata": {
        "id": "CeYTFOoF4q57"
      },
      "source": [
        "def load_codebook(fname):\n",
        "  df = pd.read_csv(fname)\n",
        "  y = df[[\"x0\", \"x1\", \"x2\", \"x3\", \"x4\", \"x5\", \"x6\"]].values\n",
        "  m = df[[\"m0\", \"m1\", \"m2\", \"m3\"]].values\n",
        "  file_size = y.shape[0]\n",
        "  return y, m, file_size"
      ],
      "execution_count": null,
      "outputs": []
    },
    {
      "cell_type": "markdown",
      "metadata": {
        "id": "v8JlW6Ry7PrE"
      },
      "source": [
        "# Maximum Likelihood Decoding"
      ]
    },
    {
      "cell_type": "markdown",
      "metadata": {
        "id": "rUNERZ2B7WqM"
      },
      "source": [
        "We first generate the all possible codewords by the generator matrix. Next, we calculate the norm between received codeword and all possible codeword. We make the decision (m_hat) by choosing the one with minimum norm."
      ]
    },
    {
      "cell_type": "code",
      "metadata": {
        "id": "Vsg_hkaQ71LH"
      },
      "source": [
        "def ML_decode(y):\n",
        "  # type your own code\n",
        "  # construct generator matrix\n",
        "  G = np.array([[1, 0, 0, 0, 1, 1, 0],\n",
        "                [0, 1, 0, 0, 1, 0, 1],\n",
        "                [0, 0, 1, 0, 0, 1, 1],\n",
        "                [0, 0, 0, 1, 1, 1, 1]])\n",
        "  # construct all possible message\n",
        "  possibleMes=np.array([[0,0,0,0],\n",
        "                        [0,0,0,1],\n",
        "                        [0,0,1,0],\n",
        "                        [0,0,1,1],\n",
        "                        [0,1,0,0],\n",
        "                        [0,1,0,1],\n",
        "                        [0,1,1,0],\n",
        "                        [0,1,1,1],\n",
        "                        [1,0,0,0],\n",
        "                        [1,0,0,1],\n",
        "                        [1,0,1,0],\n",
        "                        [1,0,1,1],\n",
        "                        [1,1,0,0],\n",
        "                        [1,1,0,1],\n",
        "                        [1,1,1,0],\n",
        "                        [1,1,1,1]])\n",
        "  # construct all possible codeword\n",
        "  possibleCw = possibleMes.dot(G) %2\n",
        "  # Mapping the codeword 0, 1 to -1, 1\n",
        "  d = np.zeros(possibleCw.shape)\n",
        "  d[possibleCw==0]=-1\n",
        "  d[possibleCw==1]=1\n",
        "  # Find the codeword which has the minimum norm\n",
        "  m_hat=[]\n",
        "  for item in y:\n",
        "    distancelist=[]\n",
        "    for i in range(len(d)):\n",
        "      dis=0\n",
        "      for j in range(len(d[i])):\n",
        "        dis+=(item[j]-d[i][j])**2\n",
        "      distancelist.append(dis)\n",
        "    minindex=distancelist.index(min(distancelist))\n",
        "    m_hat.append(list(possibleMes[minindex]))\n",
        "\n",
        "  # print(m_hat)\n",
        "  return m_hat"
      ],
      "execution_count": null,
      "outputs": []
    },
    {
      "cell_type": "code",
      "source": [
        "from google.colab import drive\n",
        "drive.mount('/content/drive')"
      ],
      "metadata": {
        "colab": {
          "base_uri": "https://localhost:8080/"
        },
        "id": "TkQ35hYE6TvU",
        "outputId": "6be9a39c-bdb2-433f-985b-8a4673aa5560"
      },
      "execution_count": null,
      "outputs": [
        {
          "output_type": "stream",
          "name": "stdout",
          "text": [
            "Mounted at /content/drive\n"
          ]
        }
      ]
    },
    {
      "cell_type": "markdown",
      "metadata": {
        "id": "3MKAVyqZ_HX6"
      },
      "source": [
        "Next, we compare our recovered signal m_hat and message m. If they are the same, it means we received the signal correctly. We calculated the symbol error rate to see how our decoding scheme performed."
      ]
    },
    {
      "cell_type": "markdown",
      "metadata": {
        "id": "NWqAsW3BN-qt"
      },
      "source": [
        "# Performance Evaluation"
      ]
    },
    {
      "cell_type": "markdown",
      "metadata": {
        "id": "aNRdkbBGJiAS"
      },
      "source": [
        "We go through all codewords to calculate the symbol error rate and bit error rate."
      ]
    },
    {
      "cell_type": "code",
      "metadata": {
        "id": "IKrI7BYeAAot"
      },
      "source": [
        "def calculate_error(m_hat, m):  \n",
        "    # print(m)\n",
        "    block_err = 0\n",
        "    bit_err=0;\n",
        "    for i in range(len(m)):\n",
        "      berr=False\n",
        "      for j in range(len(m[i])):\n",
        "        if(m[i][j]!=m_hat[i][j]):\n",
        "          bit_err+=1\n",
        "          berr=True\n",
        "        if(berr):\n",
        "          block_err+=1\n",
        "    return block_err, bit_err"
      ],
      "execution_count": null,
      "outputs": []
    },
    {
      "cell_type": "markdown",
      "metadata": {
        "id": "RFMBbaFGOCDg"
      },
      "source": [
        "# Main Function"
      ]
    },
    {
      "cell_type": "code",
      "metadata": {
        "id": "obPI7U5SPJdw",
        "colab": {
          "base_uri": "https://localhost:8080/",
          "height": 789
        },
        "outputId": "fe5a1b69-b54f-4d78-8827-9b8f63e01b4b"
      },
      "source": [
        "# SNR setting\n",
        "SNR_start = 0\n",
        "SNR_end = 7\n",
        "step_size = 1\n",
        "SNR = np.arange(SNR_start,SNR_end+1,step_size)\n",
        "length_SNR = len(SNR)\n",
        "BLER = np.zeros(length_SNR)\n",
        "BER = np.zeros(length_SNR)\n",
        "\n",
        "# main\n",
        "for i in range(length_SNR):\n",
        "  fname = \"codeword_file_SNR=\"+str(SNR[i])+\".csv\"\n",
        "\n",
        "  # type your own code (apply the defined function)\n",
        "  # load codeword\n",
        "  y,m,file_size=load_codebook(fname)\n",
        "  # maximum likelihood decoding\n",
        "  m_hat=ML_decode(y)\n",
        "  # calculate error\n",
        "  block_err,bit_err=calculate_error(m_hat,m)\n",
        "\n",
        "  BER[i] = bit_err/4/file_size\n",
        "  BLER[i] = block_err/file_size\n",
        "  print(i,\"/\",len(SNR)-1)\n",
        "# Fig plot\n",
        "BER_uncoded = [0.07721, 0.05723, 0.03774, 0.02324, 0.01186, 0.00549, 0.00246, 0.00077]\n",
        "EbN0dBs = np.arange(start=SNR_start,stop=SNR_end+1,step=step_size)\n",
        "fig1 = plt.figure()\n",
        "plt.semilogy(EbN0dBs,BER,color='r',marker='o',linestyle='-',label='ML Decoding')\n",
        "plt.semilogy(EbN0dBs,BER_uncoded,color='b',marker='x',linestyle='-',label='Uncoded')\n",
        "plt.xlabel('$E_b/N_0(dB)$');plt.ylabel('BER ($P_b$)')\n",
        "plt.title('Probability of bit error over AWGN channel')\n",
        "plt.xlim(SNR_start,SNR_end);plt.grid(True);\n",
        "plt.legend()\n",
        "plt.show()\n",
        "print(\"Bit Error Rate:\", BER)\n",
        "fig2 = plt.figure()\n",
        "plt.semilogy(EbN0dBs,BLER,color='r',marker='o',linestyle='-',label='ML Decoding')\n",
        "plt.xlabel('$E_b/N_0(dB)$');plt.ylabel('BLER ($P_b$)')\n",
        "plt.title('Probability of block error over AWGN channel')\n",
        "plt.xlim(SNR_start,SNR_end);plt.grid(True);\n",
        "plt.legend()\n",
        "plt.show()\n",
        "print(\"Block Error Rate:\", BLER)\n",
        "#print(\"Your name and the date you demo.\")"
      ],
      "execution_count": null,
      "outputs": [
        {
          "output_type": "stream",
          "name": "stdout",
          "text": [
            "0 / 7\n",
            "1 / 7\n",
            "2 / 7\n",
            "3 / 7\n",
            "4 / 7\n",
            "5 / 7\n",
            "6 / 7\n",
            "7 / 7\n"
          ]
        },
        {
          "output_type": "display_data",
          "data": {
            "text/plain": [
              "<Figure size 432x288 with 1 Axes>"
            ],
            "image/png": "[encoded data removed]"
          },
          "metadata": {
            "needs_background": "light"
          }
        },
        {
          "output_type": "stream",
          "name": "stdout",
          "text": [
            "Bit Error Rate: [8.05625e-02 5.10625e-02 2.65625e-02 1.53125e-02 4.96250e-03 1.50875e-03\n",
            " 3.70000e-04 5.62500e-05]\n"
          ]
        },
        {
          "output_type": "display_data",
          "data": {
            "text/plain": [
              "<Figure size 432x288 with 1 Axes>"
            ],
            "image/png": "[encoded data removed]"
          },
          "metadata": {
            "needs_background": "light"
          }
        },
        {
          "output_type": "stream",
          "name": "stdout",
          "text": [
            "Block Error Rate: [5.5300e-01 3.5025e-01 1.8475e-01 1.0875e-01 3.5875e-02 1.0585e-02\n",
            " 2.5850e-03 3.9250e-04]\n"
          ]
        }
      ]
    }
  ]
}