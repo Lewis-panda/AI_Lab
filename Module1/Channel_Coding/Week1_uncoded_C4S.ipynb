{
  "nbformat": 4,
  "nbformat_minor": 0,
  "metadata": {
    "colab": {
      "provenance": [],
      "collapsed_sections": [
        "YFkO_YcYGcAb"
      ],
      "toc_visible": true
    },
    "kernelspec": {
      "name": "python3",
      "display_name": "Python 3"
    },
    "language_info": {
      "name": "python"
    }
  },
  "cells": [
    {
      "cell_type": "markdown",
      "source": [
        "## **Loading libraries**"
      ],
      "metadata": {
        "id": "IJwJ0SRjFOdf"
      }
    },
    {
      "cell_type": "code",
      "execution_count": null,
      "metadata": {
        "id": "xR1HcrFSPJ-2"
      },
      "outputs": [],
      "source": [
        "import numpy as np\n",
        "import pandas as pd\n",
        "import matplotlib.pyplot as plt"
      ]
    },
    {
      "cell_type": "markdown",
      "source": [
        "## Generate random signal"
      ],
      "metadata": {
        "id": "hiIhr4F4FvpY"
      }
    },
    {
      "cell_type": "code",
      "source": [
        "def generate_message(data_size):\n",
        "  m = np.array(np.random.randint(0, 2, size=data_size))\n",
        "  return m\n",
        "# 產生一維的的數組 m=[1,0,0,1,...,]  0~2(不包含) 長度為data_size"
      ],
      "metadata": {
        "id": "Yb0egXk5PNSK"
      },
      "execution_count": null,
      "outputs": []
    },
    {
      "cell_type": "markdown",
      "source": [
        "## Modulation (BPSK)"
      ],
      "metadata": {
        "id": "AYY51BPLFc4g"
      }
    },
    {
      "cell_type": "code",
      "source": [
        "def modulation(c,SNR):\n",
        "  x=2*c-1\n",
        "  signal_power = 10**(SNR/10)\n",
        "  x = 2*c - 1 # BPSK modulation\n",
        "  x = np.sqrt(signal_power) * x# Scale signal power\n",
        "  return x"
      ],
      "metadata": {
        "id": "mRTH5_SkPktp"
      },
      "execution_count": null,
      "outputs": []
    },
    {
      "cell_type": "markdown",
      "source": [
        "## AWGN Channel"
      ],
      "metadata": {
        "id": "nhH-YvJnF8RM"
      }
    },
    {
      "cell_type": "code",
      "source": [
        "def AWGN_Channel(x, SNR):\n",
        "    # Calculate the noise power\n",
        "    Es = np.mean(np.abs(x)**2)  # Signal power\n",
        "    N0 = Es / (10**(SNR/10))    # Noise power\n",
        "\n",
        "    # Generate Gaussian noise with the calculated noise power\n",
        "    noise = np.sqrt(N0/2) * np.random.randn(*x.shape)   #可以將x中的元素作為單獨的參數傳遞給函數  例如x是2*3的矩陣  則傳入的東西為(2,3) 而不是傳([2,3])進去\n",
        "\n",
        "    # Add the noise to the signal\n",
        "    y = x + noise\n",
        "\n",
        "    return y"
      ],
      "metadata": {
        "id": "hm8NkXWcP3mJ"
      },
      "execution_count": null,
      "outputs": []
    },
    {
      "cell_type": "markdown",
      "source": [
        "# Hard decision"
      ],
      "metadata": {
        "id": "lUHaTgOFGLms"
      }
    },
    {
      "cell_type": "markdown",
      "source": [
        "After we receive the signal, we first do the hard decision. If the signal is greater than the threshold, we say it is 1 and if the signal is smaller than the threshold it is 0."
      ],
      "metadata": {
        "id": "UfwnMB4TGNmg"
      }
    },
    {
      "cell_type": "code",
      "source": [
        "def hard_decision(y):\n",
        "  # Set the hard decision threshold\n",
        "  threshold = 0\n",
        "  m_hat = np.zeros(len(y))\n",
        "  m_hat[y >= threshold] = 1\n",
        "  m_hat[y < threshold] = 0\n",
        "  return m_hat"
      ],
      "metadata": {
        "id": "k2d6xW-onRwP"
      },
      "execution_count": null,
      "outputs": []
    },
    {
      "cell_type": "markdown",
      "source": [
        "## Performance evaluation"
      ],
      "metadata": {
        "id": "gq8nCGGzGRvj"
      }
    },
    {
      "cell_type": "markdown",
      "source": [
        "We go through all signals to calculate the bit error rate.\n",
        "\n",
        "P.S. output the number of elements of error bits"
      ],
      "metadata": {
        "id": "p0qNnZbKGUcc"
      }
    },
    {
      "cell_type": "code",
      "source": [
        "def calculate_error(m_hat,m):\n",
        "  # Find out all the error elements to get BER\n",
        "  bit_err = np.sum(m_hat != m)\n",
        "  return bit_err"
      ],
      "metadata": {
        "id": "oAezwwr7nVxy"
      },
      "execution_count": null,
      "outputs": []
    },
    {
      "cell_type": "code",
      "source": [
        "SNR_start = 0\n",
        "SNR_end = 8\n",
        "step_size = 1\n",
        "SNR = np.arange(SNR_start,SNR_end+1,step_size)\n",
        "length_SNR = len(SNR)\n",
        "BER = np.zeros(length_SNR)\n",
        "data_size = 100000\n",
        "\n",
        "\n",
        "for i in range(len(SNR)):\n",
        "  m = generate_message(data_size)\n",
        "  c = m\n",
        "  x = modulation(c,SNR[i])\n",
        "  y = AWGN_Channel(x,SNR[i])\n",
        "  m_hat = hard_decision(y)\n",
        "  bit_err = calculate_error(m_hat,m)\n",
        "\n",
        "  \n",
        "  BER[i] = bit_err/data_size\n",
        "  print(i,\"/\",len(SNR)-1)\n",
        "  # Fig Plot\n",
        "EbN0dBs = np.arange(start=SNR_start,stop=SNR_end+1,step=step_size)\n",
        "fig1 = plt.figure()\n",
        "plt.semilogy(EbN0dBs,BER,color='r',marker='o',linestyle='-',label='Uncoded Transmission')\n",
        "plt.xlabel('$E_b/N_0(dB)$');plt.ylabel('BER ($P_b$)')\n",
        "plt.title('Probability of bit error over AWGN channel')\n",
        "plt.xlim(SNR_start,SNR_end);plt.grid(True);\n",
        "plt.legend()\n",
        "plt.show()\n",
        "print(\"Bit Error Rate:\", BER)"
      ],
      "metadata": {
        "colab": {
          "base_uri": "https://localhost:8080/",
          "height": 473
        },
        "id": "D9r0M47Drm_M",
        "outputId": "920d8015-ee4d-4f3d-a2a0-d725fab7ef6e"
      },
      "execution_count": null,
      "outputs": [
        {
          "output_type": "stream",
          "name": "stdout",
          "text": [
            "0 / 8\n",
            "1 / 8\n",
            "2 / 8\n",
            "3 / 8\n",
            "4 / 8\n",
            "5 / 8\n",
            "6 / 8\n",
            "7 / 8\n",
            "8 / 8\n"
          ]
        },
        {
          "output_type": "display_data",
          "data": {
            "text/plain": [
              "<Figure size 432x288 with 1 Axes>"
            ],
            "image/png": "[encoded data removed]"
          },
          "metadata": {
            "needs_background": "light"
          }
        },
        {
          "output_type": "stream",
          "name": "stdout",
          "text": [
            "Bit Error Rate: [0.07741 0.05695 0.03798 0.02261 0.01289 0.00576 0.00222 0.00087 0.0002 ]\n"
          ]
        }
      ]
    },
    {
      "cell_type": "markdown",
      "source": [
        "## Main function"
      ],
      "metadata": {
        "id": "YFkO_YcYGcAb"
      }
    },
    {
      "cell_type": "code",
      "source": [
        "SNR_start = 0\n",
        "SNR_end = 8\n",
        "step_size = 1\n",
        "SNR = np.arange(SNR_start,SNR_end+1,step_size)\n",
        "length_SNR = len(SNR)\n",
        "BER = np.zeros(length_SNR)\n",
        "data_size = 100000\n",
        "# N0=50000\n",
        "\n",
        "for i in range(len(SNR)):\n",
        "  \n",
        "  # Type your own code\n",
        "  # Call the functions above\n",
        "\n",
        "  BER[i] = bit_err/data_size\n",
        "  print(i,\"/\",len(SNR)-1)\n",
        "  # Fig Plot\n",
        "EbN0dBs = np.arange(start=SNR_start,stop=SNR_end+1,step=step_size)\n",
        "fig1 = plt.figure()\n",
        "plt.semilogy(EbN0dBs,BER,color='r',marker='o',linestyle='-',label='Uncoded Transmission')\n",
        "plt.xlabel('$E_b/N_0(dB)$');plt.ylabel('BER ($P_b$)')\n",
        "plt.title('Probability of bit error over AWGN channel')\n",
        "plt.xlim(SNR_start,SNR_end);plt.grid(True);\n",
        "plt.legend()\n",
        "plt.show()\n",
        "print(\"Bit Error Rate:\", BER)"
      ],
      "metadata": {
        "colab": {
          "base_uri": "https://localhost:8080/",
          "height": 473
        },
        "id": "OthVWP1PP5pl",
        "outputId": "572328b0-29e3-412f-fe57-4a4583933c27"
      },
      "execution_count": null,
      "outputs": [
        {
          "output_type": "stream",
          "name": "stdout",
          "text": [
            "0 / 8\n",
            "1 / 8\n",
            "2 / 8\n",
            "3 / 8\n",
            "4 / 8\n",
            "5 / 8\n",
            "6 / 8\n",
            "7 / 8\n",
            "8 / 8\n"
          ]
        },
        {
          "output_type": "display_data",
          "data": {
            "text/plain": [
              "<Figure size 432x288 with 1 Axes>"
            ],
            "image/png": "[encoded data removed]"
          },
          "metadata": {
            "needs_background": "light"
          }
        },
        {
          "output_type": "stream",
          "name": "stdout",
          "text": [
            "Bit Error Rate: [0.07721 0.05723 0.03774 0.02324 0.01186 0.00549 0.00246 0.00077 0.00019]\n"
          ]
        }
      ]
    }
  ]
}